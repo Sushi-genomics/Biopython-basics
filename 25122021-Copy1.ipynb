{
 "cells": [
  {
   "cell_type": "code",
   "execution_count": 59,
   "id": "84a0db9f",
   "metadata": {},
   "outputs": [],
   "source": [
    "def functioname(param1, param2, param3):  #child\n",
    "    #writing coding here\n",
    "    #print(param1,param2,param3)\n",
    "    if(param1>param2):\n",
    "        if(param1>param3):\n",
    "            print(param1,\"is greater\")\n",
    "        else:\n",
    "            print(param3,\"is greater\")\n",
    "\n",
    "def functionnamecall(listofnum):   #parent\n",
    "    print(listofnum)\n",
    "    functioname(10,9,8)"
   ]
  },
  {
   "cell_type": "code",
   "execution_count": 58,
   "id": "7197383c",
   "metadata": {},
   "outputs": [
    {
     "name": "stdout",
     "output_type": "stream",
     "text": [
      "[10, 20, 30, 40, 50, 100, 2, 3, 4, 5, 6]\n",
      "10 is greater\n",
      "100\n",
      "2\n"
     ]
    },
    {
     "ename": "TypeError",
     "evalue": "'list' object is not callable",
     "output_type": "error",
     "traceback": [
      "\u001b[1;31m---------------------------------------------------------------------------\u001b[0m",
      "\u001b[1;31mTypeError\u001b[0m                                 Traceback (most recent call last)",
      "\u001b[1;32m~\\AppData\\Local\\Temp/ipykernel_4544/3924057544.py\u001b[0m in \u001b[0;36m<module>\u001b[1;34m\u001b[0m\n\u001b[0;32m     24\u001b[0m \u001b[1;33m\u001b[0m\u001b[0m\n\u001b[0;32m     25\u001b[0m \u001b[0mlistofnumbers\u001b[0m\u001b[1;33m=\u001b[0m\u001b[1;33m[\u001b[0m\u001b[1;36m10\u001b[0m\u001b[1;33m,\u001b[0m\u001b[1;36m20\u001b[0m\u001b[1;33m,\u001b[0m\u001b[1;36m30\u001b[0m\u001b[1;33m,\u001b[0m\u001b[1;36m40\u001b[0m\u001b[1;33m,\u001b[0m\u001b[1;36m50\u001b[0m\u001b[1;33m,\u001b[0m\u001b[1;36m100\u001b[0m\u001b[1;33m,\u001b[0m\u001b[1;36m2\u001b[0m\u001b[1;33m,\u001b[0m\u001b[1;36m3\u001b[0m\u001b[1;33m,\u001b[0m\u001b[1;36m4\u001b[0m\u001b[1;33m,\u001b[0m\u001b[1;36m5\u001b[0m\u001b[1;33m,\u001b[0m\u001b[1;36m6\u001b[0m\u001b[1;33m]\u001b[0m\u001b[1;33m\u001b[0m\u001b[1;33m\u001b[0m\u001b[0m\n\u001b[1;32m---> 26\u001b[1;33m \u001b[0mparentfunc\u001b[0m\u001b[1;33m(\u001b[0m\u001b[0mlistofnumbers\u001b[0m\u001b[1;33m)\u001b[0m\u001b[1;33m\u001b[0m\u001b[1;33m\u001b[0m\u001b[0m\n\u001b[0m",
      "\u001b[1;32m~\\AppData\\Local\\Temp/ipykernel_4544/3924057544.py\u001b[0m in \u001b[0;36mparentfunc\u001b[1;34m(listof)\u001b[0m\n\u001b[0;32m     20\u001b[0m \u001b[1;33m\u001b[0m\u001b[0m\n\u001b[0;32m     21\u001b[0m \u001b[1;32mdef\u001b[0m \u001b[0mparentfunc\u001b[0m\u001b[1;33m(\u001b[0m\u001b[0mlistof\u001b[0m\u001b[1;33m)\u001b[0m\u001b[1;33m:\u001b[0m\u001b[1;33m\u001b[0m\u001b[1;33m\u001b[0m\u001b[0m\n\u001b[1;32m---> 22\u001b[1;33m     \u001b[0mmaxfromlist\u001b[0m\u001b[1;33m(\u001b[0m\u001b[1;33m)\u001b[0m\u001b[1;33m\u001b[0m\u001b[1;33m\u001b[0m\u001b[0m\n\u001b[0m\u001b[0;32m     23\u001b[0m     \u001b[0mminfromlist\u001b[0m\u001b[1;33m(\u001b[0m\u001b[1;33m)\u001b[0m\u001b[1;33m\u001b[0m\u001b[1;33m\u001b[0m\u001b[0m\n\u001b[0;32m     24\u001b[0m \u001b[1;33m\u001b[0m\u001b[0m\n",
      "\u001b[1;31mTypeError\u001b[0m: 'list' object is not callable"
     ]
    }
   ],
   "source": [
    "listofnumbers=[10,20,30,40,50,100,2,3,4,5,6]\n",
    "functionnamecall(listofnumbers)\n",
    "\n",
    "#maxfromlist=list()\n",
    "#minfromlist=list()\n",
    "#def maxfromlist()\n",
    "#def minfromlist()\n",
    "maximum=listofnumbers[0]\n",
    "for max in listofnumbers:\n",
    "    if max > maximum:\n",
    "        maximum=max\n",
    "print(maximum)\n",
    "\n",
    "minimum=listofnumbers[0]\n",
    "for min in listofnumbers:\n",
    "    if min < minimum:\n",
    "        minimum=min\n",
    "print(minimum)\n",
    "\n",
    "def parentfunc(listof):\n",
    "    maxfromlist()\n",
    "    minfromlist()\n",
    "\n",
    "listofnumbers=[10,20,30,40,50,100,2,3,4,5,6]\n",
    "parentfunc(listofnumbers)\n"
   ]
  },
  {
   "cell_type": "code",
   "execution_count": 37,
   "id": "094cb638",
   "metadata": {},
   "outputs": [
    {
     "name": "stdout",
     "output_type": "stream",
     "text": [
      "False\n",
      "True\n",
      "Nothing\n"
     ]
    }
   ],
   "source": [
    "name1=\"pythons\"\n",
    "name2=\"javaa\"\n",
    "\n",
    "bool(\"name1\"==\"name2\")\n",
    "listname=[\"python\",\"PYTHON\",\"java\"]\n",
    "\n",
    "result=bool(name1==name2)\n",
    "\n",
    "print(result)\n",
    "\n",
    "print(bool(\"PyThON\".lower() in listname))  #Membership and it is searching in the list\n",
    "\n",
    "if(name1==name2 or name2 in listname):\n",
    "    print(\"Both the names are equal\")\n",
    "    #write more condidtional statements here...\n",
    "elif(name1 in listname):\n",
    "    print(name1,\" is found in listname\")\n",
    "else:\n",
    "    print(\"Nothing\")"
   ]
  },
  {
   "cell_type": "code",
   "execution_count": 38,
   "id": "c8ac7afc",
   "metadata": {},
   "outputs": [
    {
     "name": "stdout",
     "output_type": "stream",
     "text": [
      "[1, 0, 1, 0, 5, 0, 7, 0, 1, 0]\n"
     ]
    }
   ],
   "source": [
    "listofnumbers=[*range(1,11)]\n",
    "#print(listofnumbers)\n",
    "newlistofnumbers=[]  #declartion of list\n",
    "for number in listofnumbers:\n",
    "    #print(number)\n",
    "    if(number %2 == 0):\n",
    "        newlistofnumbers.append(0)\n",
    "    elif(number %3 == 0):\n",
    "        newlistofnumbers.append(1)\n",
    "    else:\n",
    "        newlistofnumbers.append(number)\n",
    "\n",
    "print(newlistofnumbers)"
   ]
  },
  {
   "cell_type": "code",
   "execution_count": 40,
   "id": "c6c5e6a5",
   "metadata": {},
   "outputs": [
    {
     "name": "stdout",
     "output_type": "stream",
     "text": [
      "Enter some number ?45\n",
      "Third condition satisfied!\n",
      "TWO\n"
     ]
    }
   ],
   "source": [
    "\n",
    "#If else one liner\n",
    "x = int(input(\"Enter some number ?\"))\n",
    "  \n",
    "result={x > 190: \"First condition satisfied!\",\n",
    " x == 87: \"Second condition satisfied!\"}.get(\n",
    "  True, \"Third condition satisfied!\")\n",
    "\n",
    "print(result)\n",
    "#----------------------\n",
    "x=2\n",
    "xvalue = ('ONE' if (x == 1) else\n",
    "     'TWO' if (x == 2) else\n",
    "     'THREE' if (x == 3) else\n",
    "     'FOUR' if (x == 4) else\n",
    "     'ABOVE FOUR'\n",
    "    )\n",
    "print(xvalue)"
   ]
  }
 ],
 "metadata": {
  "kernelspec": {
   "display_name": "Python 3 (ipykernel)",
   "language": "python",
   "name": "python3"
  },
  "language_info": {
   "codemirror_mode": {
    "name": "ipython",
    "version": 3
   },
   "file_extension": ".py",
   "mimetype": "text/x-python",
   "name": "python",
   "nbconvert_exporter": "python",
   "pygments_lexer": "ipython3",
   "version": "3.9.7"
  }
 },
 "nbformat": 4,
 "nbformat_minor": 5
}
