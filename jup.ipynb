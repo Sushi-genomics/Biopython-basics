{
 "cells": [
  {
   "cell_type": "code",
   "execution_count": 72,
   "id": "3f0174da",
   "metadata": {},
   "outputs": [
    {
     "name": "stdout",
     "output_type": "stream",
     "text": [
      "F\n"
     ]
    }
   ],
   "source": [
    "codon={\"TTT\":'F'}\n",
    "print(codon[\"TTT\"])"
   ]
  },
  {
   "cell_type": "code",
   "execution_count": 346,
   "id": "2f9a7615",
   "metadata": {},
   "outputs": [
    {
     "name": "stdout",
     "output_type": "stream",
     "text": [
      "W\n"
     ]
    },
    {
     "ename": "TypeError",
     "evalue": "unhashable type: 'list'",
     "output_type": "error",
     "traceback": [
      "\u001b[1;31m---------------------------------------------------------------------------\u001b[0m",
      "\u001b[1;31mTypeError\u001b[0m                                 Traceback (most recent call last)",
      "\u001b[1;32m~\\AppData\\Local\\Temp/ipykernel_15612/1618432979.py\u001b[0m in \u001b[0;36m<module>\u001b[1;34m\u001b[0m\n\u001b[0;32m     10\u001b[0m \u001b[1;32mfor\u001b[0m \u001b[0mi\u001b[0m \u001b[1;32min\u001b[0m \u001b[0mrange\u001b[0m\u001b[1;33m(\u001b[0m\u001b[1;36m0\u001b[0m\u001b[1;33m,\u001b[0m\u001b[0mlen\u001b[0m\u001b[1;33m(\u001b[0m\u001b[0mseq\u001b[0m\u001b[1;33m)\u001b[0m\u001b[1;33m,\u001b[0m\u001b[1;36m3\u001b[0m\u001b[1;33m)\u001b[0m\u001b[1;33m:\u001b[0m\u001b[1;33m\u001b[0m\u001b[1;33m\u001b[0m\u001b[0m\n\u001b[0;32m     11\u001b[0m     \u001b[0mseq1\u001b[0m\u001b[1;33m=\u001b[0m\u001b[0mseq\u001b[0m\u001b[1;33m.\u001b[0m\u001b[0msplit\u001b[0m\u001b[1;33m(\u001b[0m\u001b[1;34m\",\"\u001b[0m\u001b[1;33m,\u001b[0m\u001b[1;36m3\u001b[0m\u001b[1;33m)\u001b[0m\u001b[1;33m\u001b[0m\u001b[1;33m\u001b[0m\u001b[0m\n\u001b[1;32m---> 12\u001b[1;33m     \u001b[0mprotein1\u001b[0m\u001b[1;33m=\u001b[0m\u001b[0mgcodon\u001b[0m\u001b[1;33m[\u001b[0m\u001b[0mseq1\u001b[0m\u001b[1;33m]\u001b[0m\u001b[1;33m\u001b[0m\u001b[1;33m\u001b[0m\u001b[0m\n\u001b[0m\u001b[0;32m     13\u001b[0m     \u001b[0mprotein\u001b[0m\u001b[1;33m.\u001b[0m\u001b[0mappend\u001b[0m\u001b[1;33m(\u001b[0m\u001b[0mprotein1\u001b[0m\u001b[1;33m)\u001b[0m\u001b[1;33m\u001b[0m\u001b[1;33m\u001b[0m\u001b[0m\n\u001b[0;32m     14\u001b[0m \u001b[0mprint\u001b[0m\u001b[1;33m(\u001b[0m\u001b[0mprotein\u001b[0m\u001b[1;33m)\u001b[0m\u001b[1;33m\u001b[0m\u001b[1;33m\u001b[0m\u001b[0m\n",
      "\u001b[1;31mTypeError\u001b[0m: unhashable type: 'list'"
     ]
    }
   ],
   "source": [
    "gcodon={\"TTT\":'F',\"TTC\":'F',\"TTA\":'L',\"TTG\":'L',\"CTT\":'L',\"CUC\":'L',\"CUA\":'L',\"CUG\":'L',\"ATT\":'I',\"ATC\":'I',\"ATA\":'I',\"ATG\":'M',\"GTT\":'V',\"GTC\":'V',\"GTA\":'V',\"GTG\":'V',\"TCT\":'S',\"TCC\":'S',\"TCA\":'S',\"TCG\":'S',\"CCT\":'P',\"CCC\":'P',\"CCA\":'P',\"CCG\":'P',\"ACT\":'T',\"ACC\":'T',\"ACA\":'T',\"ACG\":'T',\"GCT\":'A',\"GCC\":'A',\"GCA\":'A',\"GCG\":'A',\"TAT\":'Y',\"TAC\":'Y',\"CAT\":'H',\"CAC\":'H',\"CAA\":'Q',\"CAG\":'Q',\"AAT\":'N',\"AAC\":'N',\"AAG\":'K',\"AAA\":'K',\"GAT\":'D',\"GAC\":'D',\"GAA\":'E',\"GAG\":'E',\"TGT\":'C',\"TGC\":'C',\"TGG\":'W',\"CGT\":'R',\"CGC\":'R',\"CGA\":'R', \"CGG\":'R', \"AGT\":'S',\"AGC\":'S',\"AGA\":'R',\"AGG\":'R',\"GGT\":'G',\"GGC\":'G',\"GGA\":'G',\"GGG\":'G',\"TAA\":'stop',\"TAG\":'stop',\"TGA\":'stop'}\n",
    "print(gcodon[\"TGG\"])\n",
    "seq=\"ATGTCTTTTTCAAGAAGACCGAAGATTACTAAATCAGATATTGTTGATCAAATATCTTTGAATATTTAATCTAAAATTAGAAAAAAAATACATAAGACTTGTGATAGATGCTTTTTTTGAAGAGCTTAAAGGTAATCTTTGTTTAAATAATGTTATTGAGTTTAGATCTTTTGGTACATTTGAAGTTAGAAAAAGAAAGGGGCGTTTAAATGCGCGCAATCCTCAAACAGGGGAATATGTTAAGGTTTTAGATCATCATGTTGCGTATTTTCGTCCAGGCAAGGATTTGAAAGAGAGAGTGTGGGGTATTAAAGGTTA\"\n",
    "#seq2=seq.split()\n",
    "#x=seq.split([3])\n",
    "#print(seq2)\n",
    "#print(len(seq))\n",
    "#print(toString(seq))\n",
    "protein=[] \n",
    "for i in range(0,len(seq),3):\n",
    "    seq1=seq.split(\",\",3)\n",
    "    protein1=gcodon[seq1]\n",
    "    protein.append(protein1)\n",
    "print(protein)"
   ]
  },
  {
   "cell_type": "code",
   "execution_count": 323,
   "id": "67daa70b",
   "metadata": {},
   "outputs": [
    {
     "name": "stdout",
     "output_type": "stream",
     "text": [
      "W\n",
      "['M', 'S', 'F', 'S', 'R', 'R', 'P', 'K', 'I', 'T', 'K', 'S', 'D', 'I', 'V', 'D', 'Q', 'I', 'S', 'L', 'N', 'I', 'stop', 'S', 'K', 'I', 'R', 'K', 'K', 'I', 'H', 'K', 'T', 'C', 'D', 'R', 'C', 'F', 'F', 'stop', 'R', 'A', 'stop', 'R', 'stop', 'S', 'L', 'F', 'K', 'stop', 'C', 'Y', 'stop', 'V', 'stop', 'I', 'F', 'W', 'Y', 'I', 'stop', 'S', 'stop', 'K', 'K', 'K', 'G', 'A', 'F', 'K', 'C', 'A', 'Q', 'S', 'S', 'N', 'R', 'G', 'I', 'C', 'stop', 'G', 'F', 'R', 'S', 'S', 'C', 'C', 'V', 'F', 'S', 'S', 'R', 'Q', 'G', 'F', 'E', 'R', 'E', 'S', 'V', 'G', 'Y', 'stop', 'R', 'L', 'M', 'S', 'F', 'S', 'R', 'R', 'P', 'K', 'I', 'T', 'K', 'S', 'D', 'I', 'V', 'D', 'Q', 'I', 'S', 'L', 'N', 'I', 'stop', 'S', 'K', 'I', 'R', 'K', 'K', 'I', 'H', 'K', 'T', 'C', 'D', 'R', 'C', 'F', 'F', 'stop', 'R', 'A', 'stop', 'R', 'stop', 'S', 'L', 'F', 'K', 'stop', 'C', 'Y', 'stop', 'V', 'stop', 'I', 'F', 'W', 'Y', 'I', 'stop', 'S', 'stop', 'K', 'K', 'K', 'G', 'A', 'F', 'K', 'C', 'A', 'Q', 'S', 'S', 'N', 'R', 'G', 'I', 'C', 'stop', 'G', 'F', 'R', 'S', 'S', 'C', 'C', 'V', 'F', 'S', 'S', 'R', 'Q', 'G', 'F', 'E', 'R', 'E', 'S', 'V', 'G', 'Y', 'stop', 'R', 'L', 'L']\n"
     ]
    }
   ],
   "source": [
    "gcodon={\"TTT\":'F',\"TTC\":'F',\"TTA\":'L',\"TTG\":'L',\"CTT\":'L',\"CUC\":'L',\"CUA\":'L',\"CUG\":'L',\"ATT\":'I',\"ATC\":'I',\"ATA\":'I',\"ATG\":'M',\"GTT\":'V',\"GTC\":'V',\"GTA\":'V',\"GTG\":'V',\"TCT\":'S',\"TCC\":'S',\"TCA\":'S',\"TCG\":'S',\"CCT\":'P',\"CCC\":'P',\"CCA\":'P',\"CCG\":'P',\"ACT\":'T',\"ACC\":'T',\"ACA\":'T',\"ACG\":'T',\"GCT\":'A',\"GCC\":'A',\"GCA\":'A',\"GCG\":'A',\"TAT\":'Y',\"TAC\":'Y',\"CAT\":'H',\"CAC\":'H',\"CAA\":'Q',\"CAG\":'Q',\"AAT\":'N',\"AAC\":'N',\"AAG\":'K',\"AAA\":'K',\"GAT\":'D',\"GAC\":'D',\"GAA\":'E',\"GAG\":'E',\"TGT\":'C',\"TGC\":'C',\"TGG\":'W',\"CGT\":'R',\"CGC\":'R',\"CGA\":'R', \"CGG\":'R', \"AGT\":'S',\"AGC\":'S',\"AGA\":'R',\"AGG\":'R',\"GGT\":'G',\"GGC\":'G',\"GGA\":'G',\"GGG\":'G',\"TAA\":'stop',\"TAG\":'stop',\"TGA\":'stop'}\n",
    "print(gcodon[\"TGG\"])\n",
    "seq=\"ATGTCTTTTTCAAGAAGACCGAAGATTACTAAATCAGATATTGTTGATCAAATATCTTTGAATATTTAATCTAAAATTAGAAAAAAAATACATAAGACTTGTGATAGATGCTTTTTTTGAAGAGCTTAAAGGTAATCTTTGTTTAAATAATGTTATTGAGTTTAGATCTTTTGGTACATTTGAAGTTAGAAAAAGAAAGGGGCGTTTAAATGCGCGCAATCCTCAAACAGGGGAATATGTTAAGGTTTTAGATCATCATGTTGCGTATTTTCGTCCAGGCAAGGATTTGAAAGAGAGAGTGTGGGGTATTAAAGGTTA\"\n",
    "for i in range(0,len(seq),3):\n",
    "    seq1=(seq[i:i+3])\n",
    "    protein1=gcodon[seq1]\n",
    "protein.append(protein1)\n",
    "print(protein)"
   ]
  },
  {
   "cell_type": "code",
   "execution_count": 342,
   "id": "cdb9c76b",
   "metadata": {},
   "outputs": [
    {
     "name": "stdout",
     "output_type": "stream",
     "text": [
      "[1, 2, 3]\n",
      "[11, 22, 33]\n",
      "[111, 222, 333]\n"
     ]
    }
   ],
   "source": [
    "mattuple=([1,2,3],[11,22,33],[111,222,333])\n",
    "for i in range(0,3):\n",
    "    #for k in range(0,3):\n",
    "    print(mattuple[i])"
   ]
  },
  {
   "cell_type": "code",
   "execution_count": null,
   "id": "df6e7aab",
   "metadata": {},
   "outputs": [],
   "source": []
  }
 ],
 "metadata": {
  "kernelspec": {
   "display_name": "Python 3 (ipykernel)",
   "language": "python",
   "name": "python3"
  },
  "language_info": {
   "codemirror_mode": {
    "name": "ipython",
    "version": 3
   },
   "file_extension": ".py",
   "mimetype": "text/x-python",
   "name": "python",
   "nbconvert_exporter": "python",
   "pygments_lexer": "ipython3",
   "version": "3.9.7"
  }
 },
 "nbformat": 4,
 "nbformat_minor": 5
}
